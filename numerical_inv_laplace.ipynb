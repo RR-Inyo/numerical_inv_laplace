{
 "cells": [
  {
   "cell_type": "markdown",
   "metadata": {},
   "source": [
    "# 数値ラプラス逆変換の試み\n",
    "© 2020 @RR_Inyo\n",
    "\n",
    "周波数応答からインパルス応答を再現してみる。\n",
    "\n",
    "誤っているかもしれないが，周波数応答を$G(j \\omega)$とすると，ラプラス逆変換$\\mathcal{L}^{-1}[G(s)] = g(t)$は次式で求められるようである。\n",
    "$$\n",
    "g(t) = \\frac{1}{\\pi} \\int_{0}^{\\infty} |G(j \\omega)| \\cos \\{ \\omega t + \\mathrm{arg} G(j \\omega) \\} d\\omega\n",
    "$$\n",
    "周波数応答が離散的に与えられている場合，次式のように計算できるようである。\n",
    "$$\n",
    "g(t) = \\frac{1}{\\pi} \\sum_{\\omega_{i} = 0}^{\\infty} |G(j \\omega_{i})| \\cos \\{ \\omega_{i} t + \\mathrm{arg} G(j \\omega_{i}) \\} \\Delta \\omega_{i}\n",
    "$$\n",
    "ここで，\n",
    "$$\n",
    "\\Delta \\omega_{i} = \\omega_{i} - \\omega_{i - 1}\n",
    "$$\n",
    "である。\n",
    "以下では，Python，NumPyで上式を実装し，減衰振動\n",
    "$$\n",
    "\\begin{align}\n",
    "G(s) &= \\frac{s + \\alpha}{(s + \\alpha)^{2} - \\omega_{n}^{2}} \\\\[5pt]\n",
    "g(t) &= e^{- \\alpha t} \\cos \\omega_{n} t\n",
    "\\end{align}\n",
    "$$\n",
    "を例に，数値ラプラス逆変換を試みる。"
   ]
  },
  {
   "cell_type": "code",
   "execution_count": 1,
   "metadata": {},
   "outputs": [],
   "source": [
    "# 準備\n",
    "import numpy as np"
   ]
  },
  {
   "cell_type": "code",
   "execution_count": 2,
   "metadata": {},
   "outputs": [],
   "source": [
    "# システムのクラス\n",
    "## 例として減衰振動 = e**(-alpha * t) * cos (omega_n * t)を考える\n",
    "class damped_oscillation:\n",
    "    def __init__(self, alpha, omega_n):\n",
    "        self.alpha = alpha\n",
    "        self.omega_n = omega_n\n",
    "    \n",
    "    def impulse_resp(self, t):\n",
    "        y = (np.exp(-self.alpha * t) * np.cos(self.omega_n * t)) * (t >= 0).astype('float')\n",
    "        # y = np.exp(-self.alpha * t) * np.sin(self.omega_n * t)\n",
    "        return y\n",
    "    \n",
    "    def freq_resp(self, omega):\n",
    "        Y = (1j * omega + self.alpha) / ((1j * omega + self.alpha)**2 + self.omega_n**2)\n",
    "        # Y = self.omega_n / ((1j * omega + self.alpha)**2 + self.omega_n**2)\n",
    "        return Y\n",
    "\n",
    "# 数値ラプラス逆変換\n",
    "def numerical_inv_laplace(sys, omega):\n",
    "    ## 最大時刻\n",
    "    if omega[0] != 0:\n",
    "        T_max = 1 / omega[0]\n",
    "    else:\n",
    "        T_max = 1 / omega[1]\n",
    "    \n",
    "    ## 時間刻み\n",
    "    Delta_t = 1 / omega[-1]\n",
    "    \n",
    "    ## 周波数応答を積算\n",
    "    ### 時間ベクトルと空のインパルス応答を準備\n",
    "    t = np.arange(-3, T_max, Delta_t)\n",
    "    y = np.zeros(np.size(t))\n",
    "    \n",
    "    ### 積算\n",
    "    omega_old = 0\n",
    "    for omega_i in omega:\n",
    "        Delta_omega = omega_i - omega_old\n",
    "        Y = sys.freq_resp(omega_i)\n",
    "        y = y + np.abs(Y) * np.cos(omega_i * t + np.angle(Y)) * Delta_omega / np.pi\n",
    "        omega_old = omega_i\n",
    "        \n",
    "    return t, y"
   ]
  },
  {
   "cell_type": "code",
   "execution_count": 3,
   "metadata": {},
   "outputs": [
    {
     "ename": "NameError",
     "evalue": "name 'plt' is not defined",
     "output_type": "error",
     "traceback": [
      "\u001b[1;31m---------------------------------------------------------------------------\u001b[0m",
      "\u001b[1;31mNameError\u001b[0m                                 Traceback (most recent call last)",
      "\u001b[1;32m<ipython-input-3-114d30c4e8a4>\u001b[0m in \u001b[0;36m<module>\u001b[1;34m\u001b[0m\n\u001b[0;32m     18\u001b[0m \u001b[1;33m\u001b[0m\u001b[0m\n\u001b[0;32m     19\u001b[0m \u001b[1;31m# プロット\u001b[0m\u001b[1;33m\u001b[0m\u001b[1;33m\u001b[0m\u001b[1;33m\u001b[0m\u001b[0m\n\u001b[1;32m---> 20\u001b[1;33m \u001b[0mfig\u001b[0m\u001b[1;33m,\u001b[0m \u001b[0max\u001b[0m \u001b[1;33m=\u001b[0m \u001b[0mplt\u001b[0m\u001b[1;33m.\u001b[0m\u001b[0msubplots\u001b[0m\u001b[1;33m(\u001b[0m\u001b[1;36m3\u001b[0m\u001b[1;33m,\u001b[0m \u001b[0mfigsize\u001b[0m \u001b[1;33m=\u001b[0m \u001b[1;33m(\u001b[0m\u001b[1;36m8\u001b[0m\u001b[1;33m,\u001b[0m \u001b[1;36m8\u001b[0m\u001b[1;33m)\u001b[0m\u001b[1;33m)\u001b[0m\u001b[1;33m\u001b[0m\u001b[1;33m\u001b[0m\u001b[0m\n\u001b[0m\u001b[0;32m     21\u001b[0m \u001b[1;33m\u001b[0m\u001b[0m\n\u001b[0;32m     22\u001b[0m \u001b[1;31m## ボード線図\u001b[0m\u001b[1;33m\u001b[0m\u001b[1;33m\u001b[0m\u001b[1;33m\u001b[0m\u001b[0m\n",
      "\u001b[1;31mNameError\u001b[0m: name 'plt' is not defined"
     ]
    }
   ],
   "source": [
    "# システムの定義\n",
    "alpha = 0.25\n",
    "omega_n = 2\n",
    "sys = damped_oscillation(alpha, omega_n * np.pi * 0.2)\n",
    "\n",
    "# 理論的なインパルス応答\n",
    "t = np.arange(-1, 20, 0.01)\n",
    "y = sys.impulse_resp(t)\n",
    "\n",
    "# print(t)\n",
    "# print(y)\n",
    "\n",
    "# 各周波数\n",
    "omega = np.logspace(-2, 2, 1000)\n",
    "\n",
    "# 数値ラプラス逆変換\n",
    "t_num, y_num = numerical_inv_laplace(sys, omega)\n",
    "\n",
    "# プロット\n",
    "fig, ax = plt.subplots(3, figsize = (8, 8))\n",
    "\n",
    "## ボード線図\n",
    "### ゲイン\n",
    "ax[0].set_title(r'Frequency response of $G(s) = \\frac{s + \\alpha}{(s + \\alpha)^{2} + \\omega_{n}^{2}}$')\n",
    "ax[0].semilogx(omega, 20*np.log10(np.abs(sys.freq_resp(omega))), label = rf'Gain, $\\alpha = {alpha}$, $\\omega_n = {omega_n}$')\n",
    "ax[0].set_ylabel('Gain [dB]')\n",
    "ax[0].legend()\n",
    "ax[0].grid()\n",
    "\n",
    "### 位相\n",
    "ax[1].semilogx(omega, np.degrees(np.angle(sys.freq_resp(omega))), label = rf'Phase, $\\alpha = {alpha}$, $\\omega_n = {omega_n}$')\n",
    "ax[1].set_xlabel('Angular frequency [rad/s]')\n",
    "ax[1].set_ylabel('Phase [deg]')\n",
    "ax[1].set_ylim(-180, 90)\n",
    "ax[1].set_yticks([-180, -150, -120, -90, -60, -30, 0, 30, 60, 90])\n",
    "ax[1].legend()\n",
    "ax[1].grid()     \n",
    "\n",
    "### 時間波形（ラプラス逆変換結果）\n",
    "ax[2].set_title(r'Analytical and numerical inverse Laplace transform of $G(s) = \\frac{s + \\alpha}{(s + \\alpha)^{2} + \\omega_{n}^{2}}$')\n",
    "ax[2].plot(t_num, y_num, label = fr'Numerical', ls = '-', alpha = 0.9)\n",
    "ax[2].plot(t, y, label = fr'Analytical', ls = '-.', alpha = 0.9)\n",
    "ax[2].set_xlabel('Time [s]')\n",
    "ax[2].set_xlim(-1, 20)\n",
    "# ax.set_xlim(0, 0.5)\n",
    "ax[2].legend()\n",
    "ax[2].grid()\n",
    "\n",
    "fig.tight_layout()"
   ]
  },
  {
   "cell_type": "markdown",
   "metadata": {},
   "source": [
    "以上より，若干の誤差はあるものの，概ね正しく数値ラプラス逆変換できていることが判る。"
   ]
  },
  {
   "cell_type": "code",
   "execution_count": null,
   "metadata": {},
   "outputs": [],
   "source": []
  }
 ],
 "metadata": {
  "kernelspec": {
   "display_name": "Python 3",
   "language": "python",
   "name": "python3"
  },
  "language_info": {
   "codemirror_mode": {
    "name": "ipython",
    "version": 3
   },
   "file_extension": ".py",
   "mimetype": "text/x-python",
   "name": "python",
   "nbconvert_exporter": "python",
   "pygments_lexer": "ipython3",
   "version": "3.7.4"
  }
 },
 "nbformat": 4,
 "nbformat_minor": 4
}
